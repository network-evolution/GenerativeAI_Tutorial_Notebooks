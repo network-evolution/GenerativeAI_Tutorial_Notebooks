{
  "nbformat": 4,
  "nbformat_minor": 0,
  "metadata": {
    "colab": {
      "provenance": [],
      "authorship_tag": "ABX9TyOeFkP+BDfAVp1cyx86seC+",
      "include_colab_link": true
    },
    "kernelspec": {
      "name": "python3",
      "display_name": "Python 3"
    },
    "language_info": {
      "name": "python"
    }
  },
  "cells": [
    {
      "cell_type": "markdown",
      "metadata": {
        "id": "view-in-github",
        "colab_type": "text"
      },
      "source": [
        "<a href=\"https://colab.research.google.com/github/network-evolution/genai_apps_getting_started/blob/main/01_01_basic_chat.ipynb\" target=\"_parent\"><img src=\"https://colab.research.google.com/assets/colab-badge.svg\" alt=\"Open In Colab\"/></a>"
      ]
    },
    {
      "cell_type": "code",
      "source": [
        "# !python3 --version\n",
        "# !pip list\n",
        "!pip install -q langchain langchain_groq"
      ],
      "metadata": {
        "colab": {
          "base_uri": "https://localhost:8080/"
        },
        "id": "CW32JPw9kaRX",
        "outputId": "491dc3fc-d70b-4631-f271-bfd7d3fb6fba"
      },
      "execution_count": null,
      "outputs": [
        {
          "output_type": "stream",
          "name": "stdout",
          "text": [
            "\u001b[?25l   \u001b[90m━━━━━━━━━━━━━━━━━━━━━━━━━━━━━━━━━━━━━━━━\u001b[0m \u001b[32m0.0/121.9 kB\u001b[0m \u001b[31m?\u001b[0m eta \u001b[36m-:--:--\u001b[0m\r\u001b[2K   \u001b[91m━━━━━━━━━━━━━━━━━━━━━━━━━━━━━━━━━━━━\u001b[0m\u001b[91m╸\u001b[0m\u001b[90m━━━\u001b[0m \u001b[32m112.6/121.9 kB\u001b[0m \u001b[31m5.0 MB/s\u001b[0m eta \u001b[36m0:00:01\u001b[0m\r\u001b[2K   \u001b[90m━━━━━━━━━━━━━━━━━━━━━━━━━━━━━━━━━━━━━━━━\u001b[0m \u001b[32m121.9/121.9 kB\u001b[0m \u001b[31m3.1 MB/s\u001b[0m eta \u001b[36m0:00:00\u001b[0m\n",
            "\u001b[?25h"
          ]
        }
      ]
    },
    {
      "cell_type": "code",
      "source": [
        "from google.colab import userdata\n",
        "from langchain_groq import ChatGroq\n",
        "from langchain_core.messages import HumanMessage, SystemMessage\n",
        "from langchain_core.prompts import ChatPromptTemplate\n",
        "from langchain_core.output_parsers import StrOutputParser\n",
        "import os\n",
        "os.environ['GROQ_API_KEY'] = userdata.get('groq')"
      ],
      "metadata": {
        "id": "q7kAK3SpMa0-"
      },
      "execution_count": null,
      "outputs": []
    },
    {
      "cell_type": "code",
      "source": [
        "model = ChatGroq(model=\"llama-3.3-70b-versatile\", temperature=0)\n",
        "# print(model.model_name)\n",
        "# print(model.temperature)\n",
        "# print(f\"{1e-08:.8f}\")"
      ],
      "metadata": {
        "colab": {
          "base_uri": "https://localhost:8080/"
        },
        "id": "SZ5DRuOJMsod",
        "outputId": "b15609d2-2cec-4660-8d12-8a4009835a8e"
      },
      "execution_count": null,
      "outputs": [
        {
          "output_type": "stream",
          "name": "stdout",
          "text": [
            "llama-3.3-70b-versatile\n",
            "1e-08\n",
            "0.00000001\n"
          ]
        }
      ]
    },
    {
      "cell_type": "code",
      "source": [
        "message = [\n",
        "    SystemMessage(content=\"Translate the following from English into Tamil\"),\n",
        "    HumanMessage(\"What is your name?\"),\n",
        "]\n",
        "response = model.invoke(message)\n",
        "print(response)"
      ],
      "metadata": {
        "colab": {
          "base_uri": "https://localhost:8080/"
        },
        "id": "NvRYr0scNrZK",
        "outputId": "6fa26a0e-d800-42af-d067-74e7e33fe3f5"
      },
      "execution_count": null,
      "outputs": [
        {
          "output_type": "stream",
          "name": "stdout",
          "text": [
            "content='உங்கள் பெயர் என்ன?' additional_kwargs={} response_metadata={'token_usage': {'completion_tokens': 26, 'prompt_tokens': 47, 'total_tokens': 73, 'completion_time': 0.094545455, 'prompt_time': 0.004974792, 'queue_time': 0.22605983799999999, 'total_time': 0.099520247}, 'model_name': 'llama-3.3-70b-versatile', 'system_fingerprint': 'fp_5f849c5a0b', 'finish_reason': 'stop', 'logprobs': None} id='run-d35e728c-8b1b-4de3-bac8-9212d0b5bdbf-0' usage_metadata={'input_tokens': 47, 'output_tokens': 26, 'total_tokens': 73}\n"
          ]
        }
      ]
    },
    {
      "cell_type": "code",
      "source": [
        "prompt = ChatPromptTemplate.from_messages([\n",
        "    (\"system\", \"Translate the following from English into {output_language}\"),\n",
        "    (\"human\", \"{text}\"),\n",
        "])\n",
        "print(prompt)\n",
        "user_input = input(\"Enter text to translate: \")\n",
        "output_language = †input(\"Enter output language: \")\n",
        "# print(prompt.invoke({\"text\": user_input, \"output_language\": output_language}))\n",
        "\n",
        "chain = prompt | model | StrOutputParser()\n",
        "response = chain.invoke({\"text\": user_input, \"output_language\": output_language})\n",
        "print(response)\n",
        "\n",
        "output_language = input(\"Enter output language: \")\n",
        "response = chain.invoke({\"text\": user_input, \"output_language\": output_language})\n",
        "print(response)\n",
        "output_language = input(\"Enter output language: \")\n",
        "response = chain.invoke({\"text\": user_input, \"output_language\": output_language})\n",
        "print(response)"
      ],
      "metadata": {
        "colab": {
          "base_uri": "https://localhost:8080/"
        },
        "id": "Zvdty10vQQaA",
        "outputId": "b7d9670c-4769-4051-8ec7-87805ac99d96"
      },
      "execution_count": null,
      "outputs": [
        {
          "output_type": "stream",
          "name": "stdout",
          "text": [
            "input_variables=['output_language', 'text'] input_types={} partial_variables={} messages=[SystemMessagePromptTemplate(prompt=PromptTemplate(input_variables=['output_language'], input_types={}, partial_variables={}, template='Translate the following from English into {output_language}'), additional_kwargs={}), HumanMessagePromptTemplate(prompt=PromptTemplate(input_variables=['text'], input_types={}, partial_variables={}, template='{text}'), additional_kwargs={})]\n",
            "Enter text to translate: What is your name?\n",
            "Enter output language: Hindi\n",
            "आपका नाम क्या है?\n",
            "Enter output language: Tamil\n",
            "உங்கள் பெயர் என்ன?\n",
            "Enter output language: Malayalam\n",
            "നിങ്ങളുടെ പേര് എന്താണ്? (Ningalude per enthaanu?)\n"
          ]
        }
      ]
    },
    {
      "cell_type": "code",
      "source": [
        "from google.colab import drive\n",
        "drive.mount('/content/drive')"
      ],
      "metadata": {
        "id": "d0nxT_afczZq"
      },
      "execution_count": null,
      "outputs": []
    },
    {
      "cell_type": "code",
      "source": [
        "''"
      ],
      "metadata": {
        "id": "0jU2gW3LWZZ1"
      },
      "execution_count": null,
      "outputs": []
    }
  ]
}