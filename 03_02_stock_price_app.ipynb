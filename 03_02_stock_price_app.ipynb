{
  "cells": [
    {
      "cell_type": "markdown",
      "metadata": {
        "id": "view-in-github",
        "colab_type": "text"
      },
      "source": [
        "<a href=\"https://colab.research.google.com/github/network-evolution/GenerativeAI_Tutorial_Notebooks/blob/main/03_02_stock_price_app.ipynb\" target=\"_parent\"><img src=\"https://colab.research.google.com/assets/colab-badge.svg\" alt=\"Open In Colab\"/></a>"
      ]
    },
    {
      "cell_type": "code",
      "execution_count": null,
      "metadata": {
        "colab": {
          "base_uri": "https://localhost:8080/"
        },
        "id": "fLkUjr7GUNd2",
        "outputId": "524e9e64-7137-4127-b205-6e4629020b23"
      },
      "outputs": [
        {
          "name": "stdout",
          "output_type": "stream",
          "text": [
            "\u001b[2K     \u001b[90m━━━━━━━━━━━━━━━━━━━━━━━━━━━━━━━━━━━━━━━━\u001b[0m \u001b[32m44.3/44.3 kB\u001b[0m \u001b[31m2.6 MB/s\u001b[0m eta \u001b[36m0:00:00\u001b[0m\n",
            "\u001b[2K   \u001b[90m━━━━━━━━━━━━━━━━━━━━━━━━━━━━━━━━━━━━━━━━\u001b[0m \u001b[32m9.8/9.8 MB\u001b[0m \u001b[31m65.4 MB/s\u001b[0m eta \u001b[36m0:00:00\u001b[0m\n",
            "\u001b[2K   \u001b[90m━━━━━━━━━━━━━━━━━━━━━━━━━━━━━━━━━━━━━━━━\u001b[0m \u001b[32m6.9/6.9 MB\u001b[0m \u001b[31m81.6 MB/s\u001b[0m eta \u001b[36m0:00:00\u001b[0m\n",
            "\u001b[2K   \u001b[90m━━━━━━━━━━━━━━━━━━━━━━━━━━━━━━━━━━━━━━━━\u001b[0m \u001b[32m79.1/79.1 kB\u001b[0m \u001b[31m6.3 MB/s\u001b[0m eta \u001b[36m0:00:00\u001b[0m\n",
            "\u001b[?25h"
          ]
        }
      ],
      "source": [
        "!pip install -q streamlit"
      ]
    },
    {
      "cell_type": "code",
      "execution_count": null,
      "metadata": {
        "colab": {
          "base_uri": "https://localhost:8080/"
        },
        "id": "iV4JS_rZURyK",
        "outputId": "b8161c04-6d2e-47b5-80d0-07b4e266b5af"
      },
      "outputs": [
        {
          "name": "stdout",
          "output_type": "stream",
          "text": [
            "\u001b[1G\u001b[0K⠙\u001b[1G\u001b[0K⠹\u001b[1G\u001b[0K⠸\u001b[1G\u001b[0K⠼\u001b[1G\u001b[0K⠴\u001b[1G\u001b[0K⠦\u001b[1G\u001b[0K⠧\u001b[1G\u001b[0K⠇\u001b[1G\u001b[0K⠏\u001b[1G\u001b[0K⠋\u001b[1G\u001b[0K⠙\u001b[1G\u001b[0K⠹\u001b[1G\u001b[0K⠸\u001b[1G\u001b[0K⠼\u001b[1G\u001b[0K⠴\u001b[1G\u001b[0K⠦\u001b[1G\u001b[0K⠧\u001b[1G\u001b[0K⠇\u001b[1G\u001b[0K⠏\u001b[1G\u001b[0K⠋\u001b[1G\u001b[0K⠙\u001b[1G\u001b[0K⠹\u001b[1G\u001b[0K⠸\u001b[1G\u001b[0K⠼\u001b[1G\u001b[0K⠴\u001b[1G\u001b[0K⠦\u001b[1G\u001b[0K⠧\u001b[1G\u001b[0K⠇\u001b[1G\u001b[0K⠏\u001b[1G\u001b[0K⠋\u001b[1G\u001b[0K⠙\u001b[1G\u001b[0K⠹\u001b[1G\u001b[0K⠸\u001b[1G\u001b[0K\n",
            "added 22 packages in 5s\n",
            "\u001b[1G\u001b[0K⠸\u001b[1G\u001b[0K\n",
            "\u001b[1G\u001b[0K⠸\u001b[1G\u001b[0K3 packages are looking for funding\n",
            "\u001b[1G\u001b[0K⠸\u001b[1G\u001b[0K  run `npm fund` for details\n",
            "\u001b[1G\u001b[0K⠸\u001b[1G\u001b[0K"
          ]
        }
      ],
      "source": [
        "!npm install localtunnel"
      ]
    },
    {
      "cell_type": "code",
      "execution_count": null,
      "metadata": {
        "colab": {
          "base_uri": "https://localhost:8080/"
        },
        "id": "t9uJvY5rUZI_",
        "outputId": "2eb04b1b-d4a3-4561-a76e-5e0058287f67"
      },
      "outputs": [
        {
          "name": "stdout",
          "output_type": "stream",
          "text": [
            "Mounted at /content/drive\n"
          ]
        }
      ],
      "source": [
        "from google.colab import drive\n",
        "drive.mount('/content/drive')\n",
        "base_path = '/content/drive/MyDrive/colab_files/stock_price_app'"
      ]
    },
    {
      "cell_type": "code",
      "execution_count": null,
      "metadata": {
        "id": "BUY__TIf0cku"
      },
      "outputs": [],
      "source": [
        "from google.colab import userdata\n",
        "import os\n",
        "os.environ['OPENAI_API_KEY'] = userdata.get('openai')"
      ]
    },
    {
      "cell_type": "code",
      "execution_count": null,
      "metadata": {
        "id": "SURUUISAVIQ4"
      },
      "outputs": [],
      "source": [
        "!streamlit run {base_path}/app.py &>/content/st_logs.txt &"
      ]
    },
    {
      "cell_type": "code",
      "execution_count": null,
      "metadata": {
        "colab": {
          "background_save": true,
          "base_uri": "https://localhost:8080/"
        },
        "id": "IzglmZuOVXfZ",
        "outputId": "15e1fc60-544f-4441-a330-e3590f0cbeb9"
      },
      "outputs": [
        {
          "name": "stdout",
          "output_type": "stream",
          "text": [
            "\u001b[1G\u001b[0K⠙\u001b[1G\u001b[0Kyour url is: https://cool-lights-tell.loca.lt\n"
          ]
        }
      ],
      "source": [
        "!npx localtunnel --port 8501"
      ]
    },
    {
      "cell_type": "code",
      "execution_count": null,
      "metadata": {
        "colab": {
          "base_uri": "https://localhost:8080/"
        },
        "id": "guiGJ3S17Ud6",
        "outputId": "f02ba460-b2ff-4d18-80f6-fe108e9e04d5"
      },
      "outputs": [
        {
          "name": "stderr",
          "output_type": "stream",
          "text": [
            "\r[*********************100%***********************]  1 of 1 completed"
          ]
        },
        {
          "name": "stdout",
          "output_type": "stream",
          "text": [
            "{'ticker_symbol': 'IOC.NS', 'date': '2025-04-03'}\n",
            "2025-04-03\n",
            "INR\n",
            "\n",
            "--- Yahoo Finance Data for IOC.NS in INR on 2025-04-03 ---\n",
            "{'price': Price            Close        High         Low        Open   Volume\n",
            "Ticker          IOC.NS      IOC.NS      IOC.NS      IOC.NS   IOC.NS\n",
            "Date                                                               \n",
            "2025-04-03  131.059998  133.199997  129.880005  130.100006  9909642, 'ticker_symbol': 'IOC.NS', 'currency': 'INR'}\n"
          ]
        },
        {
          "name": "stderr",
          "output_type": "stream",
          "text": [
            "\n"
          ]
        }
      ],
      "source": [
        "from openai import OpenAI\n",
        "import json\n",
        "client = OpenAI()\n",
        "\n",
        "\n",
        "def get_stock_details(user_query):\n",
        "  tools = [{\n",
        "    \"type\": \"function\",\n",
        "    \"name\": \"get_stock_price\",\n",
        "    \"description\": \"Get current or historic stock price for a given company name or ticker symbol.\",\n",
        "    \"parameters\": {\n",
        "        \"type\": \"object\",\n",
        "        \"properties\": {\n",
        "            \"ticker_symbol\": {\n",
        "                \"type\": \"string\",\n",
        "                \"description\": \"Stock ticker symbol like AAPL, TSLA, MSFT, INFY.NS, INFY.BO,\"\n",
        "            },\n",
        "            \"date\": {\n",
        "                \"type\": \"string\",\n",
        "                \"description\": \"Date in YYYY-MM-DD format to get the stock price. If not provided, defaults to today.\"\n",
        "            }\n",
        "        },\n",
        "        \"required\": [\"ticker_symbol\"],\n",
        "        \"additionalProperties\": False\n",
        "    }\n",
        "  }]\n",
        "  input_messages = [{\"role\": \"user\", \"content\": user_query}]\n",
        "  response = client.responses.create(\n",
        "      model=\"gpt-4o\",\n",
        "      input=input_messages,\n",
        "      tools=tools,\n",
        "  )\n",
        "  function_args = json.loads(response.output[0].arguments)\n",
        "  if 'date' not in function_args:\n",
        "      function_args['date'] = date.today().isoformat()\n",
        "\n",
        "  return function_args\n",
        "\n",
        "if __name__ ==  \"__main__\":\n",
        "  # user_query = \"What is the price of Indian Oil Corporation 10th Dec 2024?\"\n",
        "  # user_query = \"What is the price of State Bank of India BSE on 10 Jan 2025 ?\"\n",
        "  # user_query = \"What is the price of State Bank of India NSE on 10 Dec 2024 ?\"\n",
        "  # user_query = \"stock price of  LIC of India  on 5 Oct 2024?\"\n",
        "  # user_query = \"Apple Inc price on 3rd Apr 2025\"\n",
        "  user_query = \"Indian Oil Corporation price on 3rd Apr 2025\"\n",
        "  stock_data = get_stock_details(user_query)\n",
        "  print(stock_data)\n",
        "\n",
        "  price_data = get_stock_price(stock_data['ticker_symbol'], stock_data['date'])\n",
        "  print(price_data)\n"
      ]
    },
    {
      "cell_type": "code",
      "execution_count": null,
      "metadata": {
        "colab": {
          "base_uri": "https://localhost:8080/"
        },
        "id": "UyVmaVY4_zKa",
        "outputId": "5b9d8355-1e63-4a3e-d41c-ea0d5ce8f3b8"
      },
      "outputs": [
        {
          "name": "stdout",
          "output_type": "stream",
          "text": [
            "2025-04-17\n"
          ]
        },
        {
          "name": "stderr",
          "output_type": "stream",
          "text": [
            "\r[*********************100%***********************]  1 of 1 completed"
          ]
        },
        {
          "name": "stdout",
          "output_type": "stream",
          "text": [
            "USD\n",
            "\n",
            "--- Yahoo Finance Data for AAPL in USD on 2025-04-17 ---\n"
          ]
        },
        {
          "name": "stderr",
          "output_type": "stream",
          "text": [
            "\n"
          ]
        },
        {
          "data": {
            "text/plain": [
              "{'price': Price            Close        High         Low        Open    Volume\n",
              " Ticker            AAPL        AAPL        AAPL        AAPL      AAPL\n",
              " Date                                                                \n",
              " 2025-04-17  196.979996  198.830002  194.419998  197.199997  52164700,\n",
              " 'ticker_symbol': 'AAPL',\n",
              " 'currency': 'USD'}"
            ]
          },
          "execution_count": 35,
          "metadata": {},
          "output_type": "execute_result"
        }
      ],
      "source": [
        "import yfinance as yf\n",
        "from datetime import date, timedelta\n",
        "start_date_prev = '2025-04-17'\n",
        "\n",
        "def is_weekend(d):\n",
        "  return d.weekday() >= 5\n",
        "\n",
        "def get_stock_price(ticker_symbol, start_date_prev):\n",
        "  start_date_prev = date.fromisoformat(start_date_prev)\n",
        "  while is_weekend(start_date_prev):\n",
        "    start_date_prev = start_date_prev - timedelta(days=1)\n",
        "\n",
        "  print(start_date_prev)\n",
        "  end_date_prev = start_date_prev + timedelta(days=1)\n",
        "\n",
        "  stock = yf.Ticker(ticker_symbol)\n",
        "  try:\n",
        "      currency = stock.info.get(\"currency\", \"Unknown Currency\")\n",
        "  except Exception as e:\n",
        "      currency = \"Unknown\"\n",
        "  print(currency)\n",
        "\n",
        "  try:\n",
        "      stock_data_prev = yf.download(ticker_symbol, start=start_date_prev, end=end_date_prev)\n",
        "      if not stock_data_prev.empty:\n",
        "          print(f\"\\n--- Yahoo Finance Data for {ticker_symbol} in {currency} on {start_date_prev.isoformat()} ---\")\n",
        "          response = { \"price\":stock_data_prev,\"ticker_symbol\":ticker_symbol, \"currency\": currency }\n",
        "          return response\n",
        "      else:\n",
        "          return(f\"\\nNo data found for {start_date_prev.isoformat()}.\")\n",
        "  except Exception as e:\n",
        "      print(f\"\\nAn error occurred while fetching previous trading day data: {e}\")\n",
        "\n",
        "\n",
        "get_stock_price(\"AAPL\", start_date_prev)\n"
      ]
    },
    {
      "cell_type": "code",
      "execution_count": null,
      "metadata": {
        "id": "7vxoCV0XB51R"
      },
      "outputs": [],
      "source": []
    }
  ],
  "metadata": {
    "colab": {
      "provenance": [],
      "authorship_tag": "ABX9TyNzhMAs+dX7QmMfqWN5YF0T",
      "include_colab_link": true
    },
    "kernelspec": {
      "display_name": "Python 3",
      "name": "python3"
    },
    "language_info": {
      "name": "python"
    }
  },
  "nbformat": 4,
  "nbformat_minor": 0
}