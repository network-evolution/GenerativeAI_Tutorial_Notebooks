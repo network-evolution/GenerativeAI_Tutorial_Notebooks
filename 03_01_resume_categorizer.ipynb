{
  "cells": [
    {
      "cell_type": "markdown",
      "metadata": {
        "id": "view-in-github",
        "colab_type": "text"
      },
      "source": [
        "<a href=\"https://colab.research.google.com/github/network-evolution/GenerativeAI_Tutorial_Notebooks/blob/main/03_01_resume_categorizer.ipynb\" target=\"_parent\"><img src=\"https://colab.research.google.com/assets/colab-badge.svg\" alt=\"Open In Colab\"/></a>"
      ]
    },
    {
      "cell_type": "code",
      "execution_count": null,
      "metadata": {
        "colab": {
          "base_uri": "https://localhost:8080/"
        },
        "id": "MxfGKWo3qW6L",
        "outputId": "af7539bc-1314-4e10-db88-fbee2aa13c6a"
      },
      "outputs": [
        {
          "name": "stdout",
          "output_type": "stream",
          "text": [
            "\u001b[2K     \u001b[90m━━━━━━━━━━━━━━━━━━━━━━━━━━━━━━━━━━━━━━━━\u001b[0m \u001b[32m44.3/44.3 kB\u001b[0m \u001b[31m2.6 MB/s\u001b[0m eta \u001b[36m0:00:00\u001b[0m\n",
            "\u001b[2K   \u001b[90m━━━━━━━━━━━━━━━━━━━━━━━━━━━━━━━━━━━━━━━━\u001b[0m \u001b[32m9.8/9.8 MB\u001b[0m \u001b[31m83.2 MB/s\u001b[0m eta \u001b[36m0:00:00\u001b[0m\n",
            "\u001b[2K   \u001b[90m━━━━━━━━━━━━━━━━━━━━━━━━━━━━━━━━━━━━━━━━\u001b[0m \u001b[32m6.9/6.9 MB\u001b[0m \u001b[31m92.6 MB/s\u001b[0m eta \u001b[36m0:00:00\u001b[0m\n",
            "\u001b[2K   \u001b[90m━━━━━━━━━━━━━━━━━━━━━━━━━━━━━━━━━━━━━━━━\u001b[0m \u001b[32m79.1/79.1 kB\u001b[0m \u001b[31m5.3 MB/s\u001b[0m eta \u001b[36m0:00:00\u001b[0m\n",
            "\u001b[?25h"
          ]
        }
      ],
      "source": [
        "!pip install -q streamlit"
      ]
    },
    {
      "cell_type": "code",
      "execution_count": null,
      "metadata": {
        "colab": {
          "base_uri": "https://localhost:8080/"
        },
        "id": "iCccUvB_qcVJ",
        "outputId": "dd24e575-029c-452b-b93e-79af7952d107"
      },
      "outputs": [
        {
          "name": "stdout",
          "output_type": "stream",
          "text": [
            "\u001b[1G\u001b[0K⠙\u001b[1G\u001b[0K⠹\u001b[1G\u001b[0K⠸\u001b[1G\u001b[0K⠼\u001b[1G\u001b[0K⠴\u001b[1G\u001b[0K⠦\u001b[1G\u001b[0K⠧\u001b[1G\u001b[0K⠇\u001b[1G\u001b[0K⠏\u001b[1G\u001b[0K⠋\u001b[1G\u001b[0K⠙\u001b[1G\u001b[0K⠹\u001b[1G\u001b[0K⠸\u001b[1G\u001b[0K⠼\u001b[1G\u001b[0K⠴\u001b[1G\u001b[0K⠦\u001b[1G\u001b[0K⠧\u001b[1G\u001b[0K⠇\u001b[1G\u001b[0K⠏\u001b[1G\u001b[0K⠋\u001b[1G\u001b[0K⠙\u001b[1G\u001b[0K⠹\u001b[1G\u001b[0K⠸\u001b[1G\u001b[0K⠼\u001b[1G\u001b[0K⠴\u001b[1G\u001b[0K⠦\u001b[1G\u001b[0K⠧\u001b[1G\u001b[0K⠇\u001b[1G\u001b[0K⠏\u001b[1G\u001b[0K⠋\u001b[1G\u001b[0K⠙\u001b[1G\u001b[0K⠹\u001b[1G\u001b[0K⠸\u001b[1G\u001b[0K⠼\u001b[1G\u001b[0K⠴\u001b[1G\u001b[0K⠦\u001b[1G\u001b[0K⠧\u001b[1G\u001b[0K⠇\u001b[1G\u001b[0K⠏\u001b[1G\u001b[0K⠋\u001b[1G\u001b[0K⠙\u001b[1G\u001b[0K\n",
            "added 22 packages in 8s\n",
            "\u001b[1G\u001b[0K⠙\u001b[1G\u001b[0K\n",
            "\u001b[1G\u001b[0K⠙\u001b[1G\u001b[0K3 packages are looking for funding\n",
            "\u001b[1G\u001b[0K⠙\u001b[1G\u001b[0K  run `npm fund` for details\n",
            "\u001b[1G\u001b[0K⠙\u001b[1G\u001b[0K"
          ]
        }
      ],
      "source": [
        "!npm install localtunnel"
      ]
    },
    {
      "cell_type": "code",
      "execution_count": null,
      "metadata": {
        "id": "I2rNL9ChENCJ"
      },
      "outputs": [],
      "source": [
        "from google.colab import userdata\n",
        "import os\n",
        "os.environ['OPENAI_API_KEY'] = userdata.get('openai')"
      ]
    },
    {
      "cell_type": "code",
      "execution_count": null,
      "metadata": {
        "colab": {
          "base_uri": "https://localhost:8080/"
        },
        "id": "BOaEdbNMql9S",
        "outputId": "56f513dc-bf1e-4d64-8c1c-a9e8e09e07f6"
      },
      "outputs": [
        {
          "name": "stdout",
          "output_type": "stream",
          "text": [
            "Drive already mounted at /content/drive; to attempt to forcibly remount, call drive.mount(\"/content/drive\", force_remount=True).\n"
          ]
        }
      ],
      "source": [
        "from google.colab import drive\n",
        "drive.mount('/content/drive')\n",
        "base_path = '/content/drive/MyDrive/colab_files/resume_categorizer'"
      ]
    },
    {
      "cell_type": "code",
      "execution_count": null,
      "metadata": {
        "id": "6U0_ddk9r4AW"
      },
      "outputs": [],
      "source": [
        "!streamlit run {base_path}/app.py &>/content/st_logs.txt &"
      ]
    },
    {
      "cell_type": "code",
      "execution_count": null,
      "metadata": {
        "colab": {
          "background_save": true,
          "base_uri": "https://localhost:8080/"
        },
        "id": "D16wPJeZs6CR",
        "outputId": "ada26dcf-2aa1-4da7-c93b-0e1f4d0e0162"
      },
      "outputs": [
        {
          "name": "stdout",
          "output_type": "stream",
          "text": [
            "\u001b[1G\u001b[0K⠙\u001b[1G\u001b[0Kyour url is: https://silly-coins-smoke.loca.lt\n"
          ]
        }
      ],
      "source": [
        "!npx localtunnel --port 8501"
      ]
    },
    {
      "cell_type": "code",
      "execution_count": null,
      "metadata": {
        "colab": {
          "base_uri": "https://localhost:8080/"
        },
        "id": "ZEL-kk-bRHPe",
        "outputId": "ab4b3973-2184-4395-c5bd-fba04c14d94f"
      },
      "outputs": [
        {
          "name": "stdout",
          "output_type": "stream",
          "text": [
            "I'm based on OpenAI's GPT-4 architecture. How can I assist you today?\n"
          ]
        }
      ],
      "source": [
        "# from openai import OpenAI\n",
        "# client = OpenAI()\n",
        "\n",
        "# response = client.responses.create(\n",
        "#     model=\"gpt-4o-mini\",\n",
        "#     input=\"Which LLM model are u using?\"\n",
        "# )\n",
        "# print(response.output_text)"
      ]
    },
    {
      "cell_type": "code",
      "execution_count": null,
      "metadata": {
        "colab": {
          "base_uri": "https://localhost:8080/"
        },
        "id": "MzWu91MgSPGO",
        "outputId": "b8201470-9ccd-4b8d-c93a-5c1db60bd815"
      },
      "outputs": [
        {
          "name": "stdout",
          "output_type": "stream",
          "text": [
            "{\"name\":\"Priya Singh\",\"years_of_experience\":7,\"skills\":[\"Python\",\"Bash\",\"Ansible\",\"Prometheus\",\"Grafana\",\"Datadog\",\"ELK\",\"Docker\",\"Kubernetes\",\"Terraform\"]}\n",
            "<class 'str'>\n",
            "Added Priya Singh to json file\n",
            "{\n",
            "  \"name\": \"Priya Singh\",\n",
            "  \"years_of_experience\": 7,\n",
            "  \"Programming\": [\n",
            "    \"Python\",\n",
            "    \"Bash\"\n",
            "  ],\n",
            "  \"Cloud\": [],\n",
            "  \"DevOps\": [\n",
            "    \"Docker\",\n",
            "    \"Kubernetes\",\n",
            "    \"Terraform\"\n",
            "  ],\n",
            "  \"Networking\": [],\n",
            "  \"Automation\": [\n",
            "    \"Ansible\"\n",
            "  ],\n",
            "  \"Monitoring\": [\n",
            "    \"Prometheus\",\n",
            "    \"Grafana\",\n",
            "    \"Datadog\"\n",
            "  ],\n",
            "  \"Other\": [\n",
            "    \"ELK\"\n",
            "  ]\n",
            "}\n"
          ]
        }
      ],
      "source": [
        "# from openai import OpenAI\n",
        "# import json\n",
        "# client = OpenAI()\n",
        "\n",
        "\n",
        "# def process_resume_and_update_json(resume_text):\n",
        "#   extract_response = client.responses.create(\n",
        "#       model=\"gpt-4o-2024-08-06\",\n",
        "#       input=[\n",
        "#             {\"role\": \"system\", \"content\": \"Extract the candidate's name, years of experience (as a number), and a list of skills mentioned in the following resume text.\"},\n",
        "#             {\"role\": \"user\", \"content\": resume_text}\n",
        "#       ],\n",
        "#       text={\n",
        "#           \"format\": {\n",
        "#               \"type\": \"json_schema\",\n",
        "#               \"name\": \"resume_summary_extraction\",\n",
        "#               \"schema\": {\n",
        "#                   \"type\": \"object\",\n",
        "#                   \"properties\": {\n",
        "#                       \"name\": {\"type\": \"string\"},\n",
        "#                       \"years_of_experience\": {\"type\": \"number\"},\n",
        "#                       \"skills\": {\"type\": \"array\", \"items\": {\"type\": \"string\"}}\n",
        "#                   },\n",
        "#                   \"required\": [\"name\", \"years_of_experience\", \"skills\"],\n",
        "#                   \"additionalProperties\": False\n",
        "#               },\n",
        "#               \"strict\": True\n",
        "\n",
        "#               }\n",
        "#           }\n",
        "#   )\n",
        "#   extracted_output = extract_response.output_text\n",
        "#   print(extracted_output)\n",
        "#   print(type(extracted_output))\n",
        "\n",
        "\n",
        "#   ### llm call for categorizing the skillset\n",
        "#   category_response = client.responses.create(\n",
        "#       model=\"gpt-4o-2024-08-06\",\n",
        "#       input=[\n",
        "#           {\"role\": \"system\", \"content\": \"Categorize the given skills into Programming, Cloud, DevOps, Networking, Automation, Monitoring, or Other. Return the candidate's name, years_of_experience, and the categorized skills.\"},\n",
        "#           {\"role\": \"user\", \"content\": extracted_output}\n",
        "#       ],\n",
        "#       text={\n",
        "#         \"format\": {\n",
        "#             \"type\": \"json_schema\",\n",
        "#             \"name\": \"skills_categorization_with_name_and_experience\",\n",
        "#             \"schema\": {\n",
        "#                 \"type\": \"object\",\n",
        "#                 \"properties\": {\n",
        "#                     \"name\": {\"type\": \"string\"},\n",
        "#                     \"years_of_experience\": {\"type\": \"number\"},\n",
        "#                     \"Programming\": {\"type\": \"array\", \"items\": {\"type\": \"string\"}},\n",
        "#                     \"Cloud\": {\"type\": \"array\", \"items\": {\"type\": \"string\"}},\n",
        "#                     \"DevOps\": {\"type\": \"array\", \"items\": {\"type\": \"string\"}},\n",
        "#                     \"Networking\": {\"type\": \"array\", \"items\": {\"type\": \"string\"}},\n",
        "#                     \"Automation\": {\"type\": \"array\", \"items\": {\"type\": \"string\"}},\n",
        "#                     \"Monitoring\": {\"type\": \"array\", \"items\": {\"type\": \"string\"}},\n",
        "#                     \"Other\": {\"type\": \"array\", \"items\": {\"type\": \"string\"}}\n",
        "#                 },\n",
        "#                 \"required\": [\"name\", \"years_of_experience\", \"Programming\", \"Cloud\", \"DevOps\", \"Networking\", \"Automation\", \"Monitoring\", \"Other\"],\n",
        "#                 \"additionalProperties\": False\n",
        "#             },\n",
        "#             \"strict\": True\n",
        "#         }\n",
        "#         }\n",
        "\n",
        "#   )\n",
        "\n",
        "#   final_output = json.loads(category_response.output_text)\n",
        "\n",
        "#   json_file = \"candidates_summary.json\"\n",
        "#   if os.path.exists(json_file):\n",
        "#     with open(json_file, \"r\") as file:\n",
        "#       existing_data = json.load(file)\n",
        "#   else:\n",
        "#     existing_data = []\n",
        "\n",
        "#   existing_names = [c[\"name\"] for c in existing_data]\n",
        "#   if final_output[\"name\"] not in existing_names:\n",
        "#     existing_data.append(final_output)\n",
        "\n",
        "#     with open(json_file, \"w\") as file:\n",
        "#       json.dump(existing_data, file, indent=2)\n",
        "\n",
        "#     print(f\"Added {final_output['name']} to json file\")\n",
        "\n",
        "#   else:\n",
        "#     print(f\"{final_output['name']} already exists in the json file\")\n",
        "#   return final_output\n",
        "\n",
        "\n",
        "# if __name__ == \"__main__\":\n",
        "#   c1 = \"\"\"\n",
        "#   Name: John Doe\n",
        "#   Summary: Network engineer with 10 years of experience in configuring Cisco routers, automating network configurations using Ansible and Python. Hands-on with network monitoring tools.\n",
        "#   Skills: Cisco IOS, OSPF, BGP, Ansible, Python, Netmiko, Nornir, Nagios, SolarWinds, TCP/IP, VLAN, VPN\n",
        "#   \"\"\"\n",
        "#   c2 = \"\"\"\n",
        "#   Name: Maria Thomas\n",
        "#   Summary: DevOps engineer with 8 years of experience managing cloud deployments, infrastructure as code, and implementing monitoring dashboards.\n",
        "#   Skills: Terraform, Ansible, AWS, Azure, Python, Jenkins, Prometheus, Grafana, Docker, Kubernetes, ELK Stack\n",
        "#   \"\"\"\n",
        "\n",
        "  # c3 = \"\"\"\n",
        "  # Name: Priya Singh\n",
        "  # Summary: SRE with experience of 7 years, focused on automating operational tasks, implementing monitoring solutions, and ensuring high system availability.\n",
        "  # Skills: Python, Bash, Ansible, Prometheus, Grafana, Datadog, ELK, Docker, Kubernetes, Terraform\n",
        "  # \"\"\"\n",
        "#   result = process_resume_and_update_json(c3)\n",
        "#   print(json.dumps(result, indent=2))\n"
      ]
    },
    {
      "cell_type": "code",
      "execution_count": null,
      "metadata": {
        "id": "Iyx7MfYlYzNd"
      },
      "outputs": [],
      "source": []
    }
  ],
  "metadata": {
    "colab": {
      "provenance": [],
      "mount_file_id": "1C_0YdK8ikOgClUWCe9pCX5uRunvEhYl0",
      "authorship_tag": "ABX9TyNy+fGz27oSnSYKKAZlfPxY",
      "include_colab_link": true
    },
    "kernelspec": {
      "display_name": "Python 3",
      "name": "python3"
    },
    "language_info": {
      "name": "python"
    }
  },
  "nbformat": 4,
  "nbformat_minor": 0
}